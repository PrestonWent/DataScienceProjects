{
 "cells": [
  {
   "cell_type": "markdown",
   "metadata": {},
   "source": [
    "# Assignment L08: Wine Classification with a MLP\n",
    "\n",
    "**Author: Preston Went**  \n",
    "**Course: DATASCI 420**  \n",
    "**DATE (MM/DD/YYYY): 03/09/2021**"
   ]
  },
  {
   "cell_type": "markdown",
   "metadata": {
    "toc": true
   },
   "source": [
    "<h1>Table of Contents<span class=\"tocSkip\"></span></h1>\n",
    "<div class=\"toc\"><ul class=\"toc-item\"><li><span><a href=\"#Introduction\" data-toc-modified-id=\"Introduction-1\"><span class=\"toc-item-num\">1&nbsp;&nbsp;</span>Introduction</a></span></li><li><span><a href=\"#Importing-and-Preparing-the-Data\" data-toc-modified-id=\"Importing-and-Preparing-the-Data-2\"><span class=\"toc-item-num\">2&nbsp;&nbsp;</span>Importing and Preparing the Data</a></span></li><li><span><a href=\"#Constructing-the-MLP\" data-toc-modified-id=\"Constructing-the-MLP-3\"><span class=\"toc-item-num\">3&nbsp;&nbsp;</span>Constructing the MLP</a></span><ul class=\"toc-item\"><li><span><a href=\"#The-Activation-Function\" data-toc-modified-id=\"The-Activation-Function-3.1\"><span class=\"toc-item-num\">3.1&nbsp;&nbsp;</span>The Activation Function</a></span></li><li><span><a href=\"#The-MLP\" data-toc-modified-id=\"The-MLP-3.2\"><span class=\"toc-item-num\">3.2&nbsp;&nbsp;</span>The MLP</a></span></li></ul></li><li><span><a href=\"#Training-the-MLP\" data-toc-modified-id=\"Training-the-MLP-4\"><span class=\"toc-item-num\">4&nbsp;&nbsp;</span>Training the MLP</a></span><ul class=\"toc-item\"><li><span><a href=\"#Forward-Propagation\" data-toc-modified-id=\"Forward-Propagation-4.1\"><span class=\"toc-item-num\">4.1&nbsp;&nbsp;</span>Forward Propagation</a></span></li><li><span><a href=\"#Backward-Propagation\" data-toc-modified-id=\"Backward-Propagation-4.2\"><span class=\"toc-item-num\">4.2&nbsp;&nbsp;</span>Backward Propagation</a></span></li><li><span><a href=\"#Gradient-Descent\" data-toc-modified-id=\"Gradient-Descent-4.3\"><span class=\"toc-item-num\">4.3&nbsp;&nbsp;</span>Gradient Descent</a></span></li></ul></li><li><span><a href=\"#Evaluating-the-Model\" data-toc-modified-id=\"Evaluating-the-Model-5\"><span class=\"toc-item-num\">5&nbsp;&nbsp;</span>Evaluating the Model</a></span></li><li><span><a href=\"#Conclusion\" data-toc-modified-id=\"Conclusion-6\"><span class=\"toc-item-num\">6&nbsp;&nbsp;</span>Conclusion</a></span></li></ul></div>"
   ]
  },
  {
   "cell_type": "markdown",
   "metadata": {},
   "source": [
    "## Introduction\n",
    "\n",
    "In this assignment, I will be constructing and training a multilayer perceptron (MLP) to classify red and white wine.\n",
    "\n",
    "Before starting, I will import the necessary libraries. This will be a small list, since I will be defining the activation function, training loop, and backpropagation myself."
   ]
  },
  {
   "cell_type": "code",
   "execution_count": 1,
   "metadata": {
    "ExecuteTime": {
     "end_time": "2021-03-11T05:00:09.035720Z",
     "start_time": "2021-03-11T05:00:05.555238Z"
    }
   },
   "outputs": [],
   "source": [
    "# Data manipulation\n",
    "import pandas as pd\n",
    "import numpy as np\n",
    "\n",
    "# Data preprocessing\n",
    "from sklearn.preprocessing import StandardScaler\n",
    "from sklearn.model_selection import train_test_split\n",
    "\n",
    "# Data visualization\n",
    "import matplotlib.pyplot as plt\n",
    "%matplotlib inline\n",
    "import seaborn as sns; sns.set();\n",
    "\n",
    "# Model evaluation\n",
    "from sklearn.metrics import average_precision_score\n",
    "from sklearn.metrics import roc_auc_score\n",
    "from sklearn.metrics import classification_report\n",
    "\n",
    "# Set our random seed\n",
    "RAND_SEED = 5743829\n",
    "np.random.seed(RAND_SEED)"
   ]
  },
  {
   "cell_type": "markdown",
   "metadata": {},
   "source": [
    "## Importing and Preparing the Data\n",
    "\n",
    "Now we can import our data. Each row of the data represents a wine, with features as provided in the following table.\n",
    "\n",
    "|              Feature | Type                  |\n",
    "|---------------------:|:----------------------|\n",
    "|        fixed acidity | numeric               |\n",
    "|     volatile acidity | numeric               |\n",
    "|          citric acid | numeric               |\n",
    "|       residual sugar | numeric               |\n",
    "|            chlorides | numeric               |\n",
    "|  free sulfur dioxide | numeric               |\n",
    "| total sulfur dioxide | numeric               |\n",
    "|              density | numeric               |\n",
    "|                   pH | numeric               |\n",
    "|            sulphates | numeric               |\n",
    "|              alcohol | numeric               |\n",
    "|                Class | nominal: R = 1, W = 0 |\n",
    "\n",
    "**(Note: The given RedWhiteWine.csv file is expected to be in the Data/ directory. This notebook will not run otherwise.)**"
   ]
  },
  {
   "cell_type": "code",
   "execution_count": 2,
   "metadata": {
    "ExecuteTime": {
     "end_time": "2021-03-11T05:00:09.062096Z",
     "start_time": "2021-03-11T05:00:09.035720Z"
    }
   },
   "outputs": [],
   "source": [
    "# Import the data\n",
    "wine_df = pd.read_csv('Data/RedWhiteWine.csv')"
   ]
  },
  {
   "cell_type": "markdown",
   "metadata": {},
   "source": [
    "We should split this into testing and training sets now."
   ]
  },
  {
   "cell_type": "code",
   "execution_count": 3,
   "metadata": {
    "ExecuteTime": {
     "end_time": "2021-03-11T05:00:10.127015Z",
     "start_time": "2021-03-11T05:00:10.111979Z"
    }
   },
   "outputs": [],
   "source": [
    "# Split the data into a feature matrix and label vector\n",
    "y = wine_df['Class']\n",
    "X = wine_df.drop(columns=['Class'])\n",
    "\n",
    "# Split the data into training and testing sets\n",
    "X_train, X_test, y_train, y_test = train_test_split(X, y,\n",
    "                                                    stratify=y,\n",
    "                                                    random_state=RAND_SEED)"
   ]
  },
  {
   "cell_type": "markdown",
   "metadata": {},
   "source": [
    "And, finally, we will normalize each of them so that they fit the range expected by the perceptron."
   ]
  },
  {
   "cell_type": "code",
   "execution_count": 4,
   "metadata": {
    "ExecuteTime": {
     "end_time": "2021-03-11T05:00:10.939227Z",
     "start_time": "2021-03-11T05:00:10.927295Z"
    }
   },
   "outputs": [],
   "source": [
    "# Scale our inputs\n",
    "scaler = StandardScaler()\n",
    "X_train = scaler.fit_transform(X_train)\n",
    "X_test = scaler.transform(X_test)"
   ]
  },
  {
   "cell_type": "markdown",
   "metadata": {
    "ExecuteTime": {
     "end_time": "2021-03-10T04:37:53.474659Z",
     "start_time": "2021-03-10T04:37:53.444739Z"
    }
   },
   "source": [
    "## Constructing the MLP\n",
    "\n",
    "Let us build and train the model. We will be using a simple multilayer perceptron, built from scratch."
   ]
  },
  {
   "cell_type": "markdown",
   "metadata": {},
   "source": [
    "### The Activation Function\n",
    "\n",
    "We will use a very simple activation function: the sigmoid, or logistic function. It is not the best, but it works, and is very easy to define."
   ]
  },
  {
   "cell_type": "code",
   "execution_count": 5,
   "metadata": {
    "ExecuteTime": {
     "end_time": "2021-03-11T05:00:15.835004Z",
     "start_time": "2021-03-11T05:00:15.830017Z"
    }
   },
   "outputs": [],
   "source": [
    "# Define our sigmoid activation function\n",
    "def sigmoid(x):\n",
    "    '''\n",
    "    A simple, numerically stable sigmoid function.\n",
    "    :param x: A numpy array containing the values to evaluate.\n",
    "    :return: The sigmoid of those values, with some caveats.\n",
    "    '''\n",
    "    x = np.clip(x, -500, 500) # Clipping to improve numeric stability\n",
    "    x = np.array(x, dtype=float)\n",
    "    # Return the sigmoid of x, with a stable case for all negative values\n",
    "    if x.any()>=0:\n",
    "        return 1/(1 + np.exp(-x))\n",
    "    else:\n",
    "        return np.exp(x)/(1 + np.exp(x))"
   ]
  },
  {
   "cell_type": "markdown",
   "metadata": {
    "ExecuteTime": {
     "end_time": "2021-03-10T04:44:09.084707Z",
     "start_time": "2021-03-10T04:44:09.041237Z"
    }
   },
   "source": [
    "### The MLP\n",
    "\n",
    "I will define a MLP as a set of weights and biases, where each weight is between a node in an earlier layer and one in a later layer, and each node has its own bias."
   ]
  },
  {
   "cell_type": "code",
   "execution_count": 6,
   "metadata": {
    "ExecuteTime": {
     "end_time": "2021-03-11T05:00:18.555582Z",
     "start_time": "2021-03-11T05:00:18.550288Z"
    }
   },
   "outputs": [],
   "source": [
    "# Define functions for building a MLP\n",
    "\n",
    "def init_mlp_weights(input_size, layer_sizes):\n",
    "    '''\n",
    "    Initializes the weights for an MLP to random values.\n",
    "    :param input_size: An int giving the number of inputs.\n",
    "    :param layer sizes: A list giving the number of nodes in each layer.\n",
    "    :return: An array of arrays of random values. Each subarray is a layer, with\n",
    "        each element the weights to a node.\n",
    "    '''\n",
    "    mlp_weights = []\n",
    "    for layer_num, layer_size in enumerate(layer_sizes):\n",
    "        layer_weights = []\n",
    "        for i in range(layer_size):\n",
    "            if layer_num == 0: layer_weights.append(np.random.random_sample(input_size).T)\n",
    "            else: layer_weights.append(np.random.random_sample(layer_sizes[layer_num-1]).T)\n",
    "        layer_weights = np.array(layer_weights, dtype=object)\n",
    "        mlp_weights.append(layer_weights)\n",
    "    mlp_weights = np.array(mlp_weights, dtype=object)\n",
    "    return mlp_weights\n",
    "\n",
    "def init_mlp_biases(layer_sizes):\n",
    "    '''\n",
    "    Initializes the biases for an MLP to random values.\n",
    "    :param layer sizes: A list giving the number of nodes in each layer.\n",
    "    :return: An array of arrays of random values. Each subarray is a layer, with\n",
    "        each element the bias of a node.\n",
    "    '''\n",
    "    mlp_biases = []\n",
    "    for layer_num, layer_size in enumerate(layer_sizes):\n",
    "        layer_biases = np.random.random_sample(layer_size).reshape(-1,1)\n",
    "        mlp_biases.append(layer_biases)\n",
    "    mlp_biases = np.array(mlp_biases, dtype=object)\n",
    "    return mlp_biases\n",
    "\n",
    "def init_mlp(input_size, layer_sizes):\n",
    "    '''\n",
    "    Initializes the weights for an MLP to random values.\n",
    "    :param input_size: An int giving the number of inputs.\n",
    "    :param layer sizes: A list giving the number of nodes in each layer.\n",
    "    :return: A dict with weights and biases, each formatted as above.\n",
    "    '''\n",
    "    mlp = {'Weights': init_mlp_weights(input_size, layer_sizes),\n",
    "           'Biases': init_mlp_biases(layer_sizes)}\n",
    "    return mlp"
   ]
  },
  {
   "cell_type": "markdown",
   "metadata": {
    "ExecuteTime": {
     "end_time": "2021-03-10T06:20:09.053760Z",
     "start_time": "2021-03-10T06:20:09.033302Z"
    }
   },
   "source": [
    "I will use a MLP with two hidden layers, both with 5 nodes."
   ]
  },
  {
   "cell_type": "code",
   "execution_count": 7,
   "metadata": {
    "ExecuteTime": {
     "end_time": "2021-03-11T05:00:19.589494Z",
     "start_time": "2021-03-11T05:00:19.584502Z"
    }
   },
   "outputs": [],
   "source": [
    "# Initialize the MLP\n",
    "mlp_mdl = init_mlp(input_size=np.shape(X_train)[1], layer_sizes=[5, 5, 1])"
   ]
  },
  {
   "cell_type": "markdown",
   "metadata": {
    "ExecuteTime": {
     "end_time": "2021-03-10T06:25:03.887432Z",
     "start_time": "2021-03-10T06:25:03.880455Z"
    }
   },
   "source": [
    "## Training the MLP\n",
    "\n",
    "Now that we have an MLP, we need to train it. Training an MLP has two steps - forward propagation and back propagation - each of which are repeated many times during gradient descent."
   ]
  },
  {
   "cell_type": "markdown",
   "metadata": {},
   "source": [
    "### Forward Propagation\n",
    "\n",
    "Let us start by defining forward propagation. This is where the MLP makes a guess at the classification given the input."
   ]
  },
  {
   "cell_type": "code",
   "execution_count": 8,
   "metadata": {
    "ExecuteTime": {
     "end_time": "2021-03-11T05:00:23.504852Z",
     "start_time": "2021-03-11T05:00:23.500814Z"
    }
   },
   "outputs": [],
   "source": [
    "# Define our forward propagation step\n",
    "def fwd_prop(mlp, X):\n",
    "    '''\n",
    "    Propagate inputs forward through the perceptron.\n",
    "    :param mlp: The perceptron to propagate through.\n",
    "    :param X: The data to propagate.\n",
    "    :return: An array of probabilities for the positive case.\n",
    "    '''\n",
    "    est = [X.T]\n",
    "    for layer_num in range(len(mlp['Weights'])):\n",
    "        layer_weights = mlp['Weights'][layer_num]\n",
    "        layer_biases = mlp['Biases'][layer_num]\n",
    "        est.append(sigmoid(np.dot(layer_weights, est[layer_num]) + layer_biases))\n",
    "    est = np.array(est, dtype=object)\n",
    "    return est"
   ]
  },
  {
   "cell_type": "markdown",
   "metadata": {
    "ExecuteTime": {
     "end_time": "2021-03-10T07:12:14.817596Z",
     "start_time": "2021-03-10T07:12:14.792665Z"
    }
   },
   "source": [
    "### Backward Propagation\n",
    "\n",
    "Next up is backward propagation, where the model's weights are updated based upon its performance in forward propagation. I will use the cross entropy loss here."
   ]
  },
  {
   "cell_type": "code",
   "execution_count": 9,
   "metadata": {
    "ExecuteTime": {
     "end_time": "2021-03-11T05:03:32.547331Z",
     "start_time": "2021-03-11T05:03:32.540336Z"
    }
   },
   "outputs": [],
   "source": [
    "def back_prop(mlp, est, X, y):\n",
    "    '''\n",
    "    Performs a single back propagation step.\n",
    "    :param mlp: The multilayer perceptron to act on.\n",
    "    :param est: Estimations at each node of the given multilayer perceptron.\n",
    "    :param X: The feature matrix to update with.\n",
    "    :param y: The label vector corresponding to that feature matrix.\n",
    "    :return: A tuple containing the cross entropy loss, weight changes, and\n",
    "        bias changes.\n",
    "    '''\n",
    "    m = np.shape(X)[0] # Get the number of inputs\n",
    "    ce_loss = (-1/m)*np.sum(y*np.log(est[-1]) + (1-y)*np.log(1-est[-1])) # The loss\n",
    "    \n",
    "    weight_changes = []\n",
    "    bias_changes = []\n",
    "    error = est[-1] - y\n",
    "    for i in range(len(mlp['Weights'])):\n",
    "        layer_num = len(mlp['Weights']) - i - 1\n",
    "        layer_weights = mlp['Weights'][layer_num]\n",
    "        layer_biases = mlp['Biases'][layer_num]\n",
    "        \n",
    "        # Calculate changes in weights and biases\n",
    "        if layer_num == len(mlp['Weights']) - 1: weight_change = (1/m)*np.dot(error, y)\n",
    "        else: weight_change = (1/m)*np.dot(error, est[layer_num].T)\n",
    "        bias_change = (1/m)*np.sum(error, axis=1, keepdims=True)\n",
    "        \n",
    "        # Propagate error backward using the derivative of the sigmoid\n",
    "        if layer_num > 1:\n",
    "            error = np.multiply(np.dot(mlp['Weights'][layer_num].T, error),\n",
    "                                sigmoid(est[layer_num-1])*(1-sigmoid(est[layer_num-1])))\n",
    "        \n",
    "        weight_changes.append(weight_change)\n",
    "        bias_changes.append(bias_change)\n",
    "    weight_changes = np.array(weight_changes[::-1], dtype=object)\n",
    "    bias_changes = np.array(bias_changes[::-1], dtype=object)\n",
    "    return (ce_loss, weight_changes, bias_changes)"
   ]
  },
  {
   "cell_type": "markdown",
   "metadata": {
    "ExecuteTime": {
     "end_time": "2021-03-10T08:39:44.101158Z",
     "start_time": "2021-03-10T08:39:44.096180Z"
    }
   },
   "source": [
    "### Gradient Descent\n",
    "\n",
    "We can now combine our forward propagation and back propagation functions to accomplish gradient descent training of our model. **Note: This may take several minutes to run.**"
   ]
  },
  {
   "cell_type": "code",
   "execution_count": 12,
   "metadata": {
    "ExecuteTime": {
     "end_time": "2021-03-11T05:11:40.112770Z",
     "start_time": "2021-03-11T05:11:40.106787Z"
    }
   },
   "outputs": [],
   "source": [
    "# Create the gradient descent function.\n",
    "def run_grad_desc(mlp, num_epochs, learn_rate, X_train, y_train):\n",
    "    '''\n",
    "    Train a multilayer perceptron with back propagation.\n",
    "    :param mlp: The multilayer perceptron to train.\n",
    "    :param num_epochs: The number of training iterations.\n",
    "    :param learn_rate: The learning rate for parameter updates.\n",
    "    :param X_train: The feature matrix to train on.\n",
    "    :param y_train: The corresponding label vector.\n",
    "    :return: A tuple containing the final model and an array of the losses at \n",
    "        each step.\n",
    "    '''\n",
    "    losses = []\n",
    "    for i in range(num_epochs):\n",
    "        est = fwd_prop(mlp, X_train)\n",
    "        loss, weight_changes, bias_changes = back_prop(mlp, est, X_train, y_train)\n",
    "        losses.append(loss)\n",
    "        mlp['Weights'] = mlp['Weights'] - learn_rate*weight_changes\n",
    "        mlp['Biases'] = mlp['Biases'] - learn_rate*bias_changes\n",
    "    return (mlp, losses)"
   ]
  },
  {
   "cell_type": "code",
   "execution_count": 13,
   "metadata": {
    "ExecuteTime": {
     "end_time": "2021-03-11T05:14:07.421305Z",
     "start_time": "2021-03-11T05:12:15.239331Z"
    }
   },
   "outputs": [],
   "source": [
    "# Train the multilayer perceptron with gradient descent\n",
    "curr_mlp, losses = run_grad_desc(mlp_mdl, 4000, 0.01, X_train, np.array(y_train))"
   ]
  },
  {
   "cell_type": "markdown",
   "metadata": {},
   "source": [
    "Let us examine the losses to see how training went."
   ]
  },
  {
   "cell_type": "code",
   "execution_count": 15,
   "metadata": {
    "ExecuteTime": {
     "end_time": "2021-03-11T05:17:10.773372Z",
     "start_time": "2021-03-11T05:17:10.586792Z"
    }
   },
   "outputs": [
    {
     "data": {
      "image/png": "[encoded data removed]",
      "text/plain": [
       "<Figure size 576x576 with 1 Axes>"
      ]
     },
     "metadata": {},
     "output_type": "display_data"
    }
   ],
   "source": [
    "sns.set_style('darkgrid') # Set the plot style\n",
    "ax = plt.figure(figsize=[8, 8]).gca() # Create the axes\n",
    "\n",
    "# Plot the learning curve\n",
    "ax.plot(losses)\n",
    "ax.set_xlabel('Epoch')\n",
    "ax.set_ylabel('Cross Entropy Loss')\n",
    "ax.set_title('MLP Learning Curve');"
   ]
  },
  {
   "cell_type": "markdown",
   "metadata": {},
   "source": [
    "We achieved a substantial improvement. It appears that we could extend training further to do even better; the tail of the curve is only just starting to flatten out."
   ]
  },
  {
   "cell_type": "markdown",
   "metadata": {},
   "source": [
    "## Evaluating the Model\n",
    "\n",
    "Now that we have trained the model, let us see how well it estimates wine type on our testing data. I will use the classification matrix, AUC-ROC, and average precision as metrics."
   ]
  },
  {
   "cell_type": "code",
   "execution_count": 24,
   "metadata": {
    "ExecuteTime": {
     "end_time": "2021-03-11T07:03:03.796555Z",
     "start_time": "2021-03-11T07:03:03.774614Z"
    }
   },
   "outputs": [
    {
     "name": "stdout",
     "output_type": "stream",
     "text": [
      "Avg. Precision: 0.99\n",
      "AUC-ROC: 1.00\n",
      "              precision    recall  f1-score   support\n",
      "\n",
      "           0       1.00      0.97      0.98      1225\n",
      "           1       0.92      1.00      0.95       400\n",
      "\n",
      "    accuracy                           0.98      1625\n",
      "   macro avg       0.96      0.98      0.97      1625\n",
      "weighted avg       0.98      0.98      0.98      1625\n",
      "\n"
     ]
    }
   ],
   "source": [
    "final_est = fwd_prop(curr_mlp, X_test) # Get final estimates of the model on the test data\n",
    "y_pred_proba = final_est[-1][0] # Get the probabilities of the positive class\n",
    "y_pred = [1 if pos else 0 for pos in (y_pred_proba > 0.5)]\n",
    "\n",
    "# Get and print performance metrics\n",
    "print('Avg. Precision: {:.2f}'.format(average_precision_score(y_test, y_pred_proba)))\n",
    "print('AUC-ROC: {:.2f}'.format(roc_auc_score(y_test, y_pred_proba)))\n",
    "print(classification_report(y_test, y_pred))"
   ]
  },
  {
   "cell_type": "markdown",
   "metadata": {
    "ExecuteTime": {
     "end_time": "2021-03-10T09:45:12.938320Z",
     "start_time": "2021-03-10T09:45:12.927345Z"
    }
   },
   "source": [
    "The model achieves excellent performance, with near perfect average precision and AUC-ROC scores. There is some room for improvement in precision of the positive case, and the learning curve suggests that the model may be capable of this improvement."
   ]
  },
  {
   "cell_type": "markdown",
   "metadata": {
    "ExecuteTime": {
     "end_time": "2021-03-11T06:58:46.984118Z",
     "start_time": "2021-03-11T06:58:46.969194Z"
    }
   },
   "source": [
    "## Conclusion\n",
    "\n",
    "We successfully constructed and trained a MLP to distinguish between red and white wines, achieving an AUC-ROC of 1.00 and an average precision of 0.99. Further improvement may be possible with more training time."
   ]
  }
 ],
 "metadata": {
  "kernelspec": {
   "display_name": "Python 3",
   "language": "python",
   "name": "python3"
  },
  "language_info": {
   "codemirror_mode": {
    "name": "ipython",
    "version": 3
   },
   "file_extension": ".py",
   "mimetype": "text/x-python",
   "name": "python",
   "nbconvert_exporter": "python",
   "pygments_lexer": "ipython3",
   "version": "3.8.5"
  },
  "toc": {
   "base_numbering": 1,
   "nav_menu": {},
   "number_sections": true,
   "sideBar": true,
   "skip_h1_title": true,
   "title_cell": "Table of Contents",
   "title_sidebar": "Contents",
   "toc_cell": true,
   "toc_position": {},
   "toc_section_display": true,
   "toc_window_display": false
  }
 },
 "nbformat": 4,
 "nbformat_minor": 5
}
