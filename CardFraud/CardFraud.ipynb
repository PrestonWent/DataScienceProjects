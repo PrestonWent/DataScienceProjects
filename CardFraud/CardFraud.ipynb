{
 "cells": [
  {
   "cell_type": "markdown",
   "metadata": {},
   "source": [
    "# Automated Credit Card Fraud Detection\n",
    "\n",
    "The data analyzed here is a set of 284,807 credit card transactions, of which 492 are fraudulent. Each point has 30 features and a label. 28 of the features are the result of a PCA transformation and scaling, effectively anonymizing the transactions. This may have caused data leakage, but that cannot be determined without more information as to how the PCA was performed. [Here](https://www.kaggle.com/mlg-ulb/creditcardfraud) is where I sourced the data from.\n",
    "\n",
    "The data are highly imbalanced, so we will need to either find a good way to artificially balance it or use a method that is resistant to imbalance. We will be doing the former, for the sake of practice. Out evaluation metrics will have to be chosen with care, as well.\n",
    "\n",
    "Finally, the packages required for this notebook are all available in the standard Anaconda 3 installation - with one exception. If you with to run this yourself, you will need to install the [imbalanced-learn](https://pypi.org/project/imbalanced-learn/) package."
   ]
  },
  {
   "cell_type": "markdown",
   "metadata": {},
   "source": [
    "## Library Imports"
   ]
  },
  {
   "cell_type": "code",
   "execution_count": 1,
   "metadata": {},
   "outputs": [],
   "source": [
    "# Import necessary libraries\n",
    "#----------------------------------------------------------#\n",
    "\n",
    "# General data storage and manipulation\n",
    "import numpy as np\n",
    "import pandas as pd\n",
    "\n",
    "# Plotting\n",
    "import matplotlib.pyplot as plt\n",
    "%matplotlib inline\n",
    "import seaborn as sns\n",
    "\n",
    "# Preprocessing\n",
    "from sklearn.preprocessing import RobustScaler\n",
    "from imblearn.over_sampling import SMOTE\n",
    "\n",
    "# Model selection\n",
    "from sklearn.model_selection import train_test_split, GridSearchCV, StratifiedShuffleSplit\n",
    "\n",
    "# The model\n",
    "from sklearn.linear_model import SGDClassifier\n",
    "\n",
    "# Model evaluation\n",
    "from sklearn.metrics import roc_auc_score, make_scorer, roc_curve, precision_recall_curve, auc"
   ]
  },
  {
   "cell_type": "markdown",
   "metadata": {},
   "source": [
    "## Data Imports"
   ]
  },
  {
   "cell_type": "code",
   "execution_count": 2,
   "metadata": {},
   "outputs": [],
   "source": [
    "# Grab the data\n",
    "#----------------------------------------------------------#\n",
    "\n",
    "data = pd.read_csv(\"Data/creditcard.csv\")"
   ]
  },
  {
   "cell_type": "markdown",
   "metadata": {},
   "source": [
    "## Preprocessing\n",
    "\n",
    "There are a few minor issues with the data that we must address before moving on. The first is that two of the features - time and amount - have not yet been scaled. This could impact the performance of our model if not corrected. The second is that the feature matrix and label vector are combined. This is easily resolved."
   ]
  },
  {
   "cell_type": "code",
   "execution_count": 3,
   "metadata": {},
   "outputs": [],
   "source": [
    "# Scale the yet unscaled features\n",
    "#----------------------------------------------------------#\n",
    "\n",
    "rob_scaler = RobustScaler()\n",
    "\n",
    "time_scaled = rob_scaler.fit_transform(data['Time'].values.reshape(-1, 1))\n",
    "amount_scaled = rob_scaler.fit_transform(data['Amount'].values.reshape(-1, 1))\n",
    "\n",
    "data.drop(['Time', 'Amount'], axis = 1, inplace = True)\n",
    "\n",
    "data.insert(0, 'time_scaled', time_scaled)\n",
    "data.insert(1, 'amount_scaled', amount_scaled)"
   ]
  },
  {
   "cell_type": "code",
   "execution_count": 4,
   "metadata": {},
   "outputs": [],
   "source": [
    "# Create the feature matrix and label vector\n",
    "#----------------------------------------------------------#\n",
    "\n",
    "X = data.drop('Class', axis = 1)\n",
    "y = data['Class']"
   ]
  },
  {
   "cell_type": "markdown",
   "metadata": {},
   "source": [
    "## Model Selection\n",
    "\n",
    "We will eschew data exploration here, if only because others have done so exhaustively and written beautiful reports on it.\n",
    "\n",
    "Now that we have constructed our feature matrix and label vector, it is time to select a model for the data. Here, we will test four models with five-fold grid search cross validation: the logistic and robust logistic models with the l1 and l2 metrics. The selection metric I chose is the area under the receiver operating characteristic. This is not the ideal metric - that is the area under the precision recall curve - but it is good enough. It is worth noting that we are testing only smooth models. This is so that we can see the impact of different model sensitivities later on.\n",
    "\n",
    "We will be using a stratified shuffle split to get our training set to keep the class ratio equal. We will also be using the Synthetic Minority Oversampling Technique (SMOTE) to oversample our training set and balance the classes. In essence, this amounts to assuming that the class of fraudulent transactions is approximately simply connected in our feature space. This may not be true, in which case model performance will be negatively affected."
   ]
  },
  {
   "cell_type": "code",
   "execution_count": 5,
   "metadata": {},
   "outputs": [],
   "source": [
    "# Find the best model parameters\n",
    "#----------------------------------------------------------#\n",
    "\n",
    "# Split the data into train and test sets. Stratified to account\n",
    "# for disparate class sizes.\n",
    "X_train, X_test, y_train, y_test = train_test_split(X, y, test_size = 0.2, stratify = y)\n",
    "\n",
    "X_train = X_train.values\n",
    "X_test = X_test.values\n",
    "y_train = y_train.values\n",
    "y_test = y_test.values\n",
    "\n",
    "# Oversample with SMOTE to balance class sizes.\n",
    "sampler = SMOTE()\n",
    "X_train, y_train = sampler.fit_resample(X_train, y_train)\n",
    "\n",
    "# Define the model and use Grid Search CV to find best model parameters.\n",
    "# Maximizes AUC-ROC\n",
    "params = {'loss': ['log', 'modified_huber'], \n",
    "          'penalty': ['l1', 'l2']}\n",
    "clf = SGDClassifier(max_iter = 1000, tol = 1e-3)\n",
    "scorer = make_scorer(roc_auc_score, needs_proba = True)\n",
    "cv = GridSearchCV(estimator = clf, \n",
    "                  param_grid = params, \n",
    "                  scoring = scorer, \n",
    "                  n_jobs = -1,\n",
    "                  cv = 5)\n",
    "\n",
    "model = cv.fit(X_train, y_train)"
   ]
  },
  {
   "cell_type": "markdown",
   "metadata": {},
   "source": [
    "## Model Evaluation\n",
    "\n",
    "Now that we have selected a model - logistic regression with the l1 norm - it is time to find out how well it performs on the data. Our metrics of choice are the receiver operating characteristic, the precision-recall curve, and the areas under each. These should give some idea of real-world performance on highly imbalanced classification tasks.\n",
    "\n",
    "Due to the low training time required (on the order of a few seconds) we will reshuffle and split the data, train, test, and evaluate 1000 times. This takes around two hours on a reasonably fast laptop."
   ]
  },
  {
   "cell_type": "code",
   "execution_count": 6,
   "metadata": {},
   "outputs": [],
   "source": [
    "# Fit the model with best parameters and get the ROC, PRC, \n",
    "# AUC-ROC, and AUC-PRC. Repeats 1000 times, using different \n",
    "# training and testing sets each time.\n",
    "#----------------------------------------------------------#\n",
    "\n",
    "splitter = StratifiedShuffleSplit(n_splits = 1000)\n",
    "\n",
    "roc_aucs = []\n",
    "prc_aucs = []\n",
    "precisions = []\n",
    "recalls = []\n",
    "fprs = []\n",
    "tprs = []\n",
    "\n",
    "for train, test in splitter.split(X, y):\n",
    "    # Split the testing and training sets.\n",
    "    X_train = X.iloc[train].values\n",
    "    X_test = X.iloc[test].values\n",
    "    y_train = y.iloc[train].values\n",
    "    y_test = y.iloc[test].values\n",
    "    \n",
    "    # Oversample minority classes with SMOTE to balance.\n",
    "    sampler = SMOTE()\n",
    "    X_train, y_train = sampler.fit_resample(X_train, y_train)\n",
    "    \n",
    "    # Fit the best model tested.\n",
    "    clf = model.best_estimator_\n",
    "    clf.fit(X_train, y_train)\n",
    "    y_pred = clf.predict_proba(X_test)[:, 1]\n",
    "    \n",
    "    # Determine the ROC and PRC.\n",
    "    precision, recall, thresholds = precision_recall_curve(y_test, y_pred)\n",
    "    fpr, tpr, thresholds = roc_curve(y_test, y_pred)\n",
    "\n",
    "    # Evaluate and store metrics.\n",
    "    roc_aucs.append(roc_auc_score(y_test, y_pred))\n",
    "    prc_aucs.append(auc(recall, precision))\n",
    "    precisions.append(precision)\n",
    "    recalls.append(recall)\n",
    "    fprs.append(fpr)\n",
    "    tprs.append(tpr)"
   ]
  },
  {
   "cell_type": "markdown",
   "metadata": {},
   "source": [
    "## Visualizing Model Performance\n",
    "\n",
    "That done, we can now visualize the performance of our model. In the line charts, the lightly shaded region spans the 0.05 to 0.95 quantiles, and the darker shaded region the 0.25 to 0.75 quantiles. The line is the mean at each point."
   ]
  },
  {
   "cell_type": "code",
   "execution_count": 16,
   "metadata": {},
   "outputs": [
    {
     "data": {
      "image/png": "[encoded data removed]",
      "text/plain": [
       "<Figure size 576x576 with 1 Axes>"
      ]
     },
     "metadata": {
      "needs_background": "light"
     },
     "output_type": "display_data"
    }
   ],
   "source": [
    "# Graph the 5%, 25%, 50%, 75%, and 95% quartile PRCs.\n",
    "#----------------------------------------------------------#\n",
    "\n",
    "#  Perform linear interpolation to make PRC matrix.\n",
    "int_recalls = np.linspace(0, 1, 300)\n",
    "int_precisions = np.interp(x = int_recalls,\n",
    "                           xp = recalls[0][::-1], \n",
    "                           fp = precisions[0][::-1])\n",
    "for i in range(len(recalls) - 1):\n",
    "    int_precision = np.interp(x = int_recalls,\n",
    "                              xp = recalls[i + 1][::-1], \n",
    "                              fp = precisions[i + 1][::-1])\n",
    "    int_precisions = np.vstack((int_precisions, int_precision))\n",
    "\n",
    "# Find quantile curves.\n",
    "lower_precision = np.quantile(int_precisions, 0.05, axis = 0)\n",
    "low_precision = np.quantile(int_precisions, 0.25, axis = 0)\n",
    "med_precision = np.median(int_precisions, axis = 0)\n",
    "high_precision = np.quantile(int_precisions, 0.75, axis = 0)\n",
    "higher_precision = np.quantile(int_precisions, 0.95, axis = 0)\n",
    "\n",
    "# Plot curves with quantiles filled.\n",
    "plt.figure(figsize = (8, 8))\n",
    "plt.plot(int_recalls, med_precision)\n",
    "plt.fill_between(int_recalls, lower_precision, higher_precision, alpha = 0.2)\n",
    "plt.fill_between(int_recalls, low_precision, high_precision, alpha = 0.3, color = \"C0\")\n",
    "plt.xlabel(\"Recall\", fontsize = 14)\n",
    "plt.ylabel(\"Precision\", fontsize = 14)\n",
    "plt.xticks(fontsize = 13)\n",
    "plt.yticks(fontsize = 13)\n",
    "plt.grid(True)\n",
    "plt.xlim((-0.01, 1.01))\n",
    "plt.ylim((-0.01, 1.01));\n",
    "\n",
    "plt.savefig(\"PRCs.jpg\", bbox_inches = \"tight\")"
   ]
  },
  {
   "cell_type": "code",
   "execution_count": 15,
   "metadata": {},
   "outputs": [
    {
     "data": {
      "image/png": "[encoded data removed]",
      "text/plain": [
       "<Figure size 576x576 with 1 Axes>"
      ]
     },
     "metadata": {
      "needs_background": "light"
     },
     "output_type": "display_data"
    }
   ],
   "source": [
    "# Graph the 5%, 25%, 50%, 75%, and 95% quartile ROCs.\n",
    "#----------------------------------------------------------#\n",
    "\n",
    "#  Perform linear interpolation to make ROC matrix.\n",
    "int_fprs = np.linspace(0, 1, 300)\n",
    "int_tprs = np.interp(x = int_fprs,\n",
    "                     xp = fprs[0], \n",
    "                     fp = tprs[0])\n",
    "for i in range(len(fprs) - 1):\n",
    "    int_tpr = np.interp(x = int_fprs,\n",
    "                        xp = fprs[i + 1], \n",
    "                        fp = tprs[i + 1])\n",
    "    int_tprs = np.vstack((int_tprs, int_tpr))\n",
    "\n",
    "# Find quartile curves.\n",
    "lower_tpr = np.quantile(int_tprs, 0.05, axis = 0)\n",
    "low_tpr = np.quantile(int_tprs, 0.25, axis = 0)\n",
    "med_tpr = np.median(int_tprs, axis = 0)\n",
    "high_tpr = np.quantile(int_tprs, 0.75, axis = 0)\n",
    "higher_tpr = np.quantile(int_tprs, 0.95, axis = 0)\n",
    "\n",
    "# Plot curves with quartiles filled.\n",
    "plt.figure(figsize = (8, 8))\n",
    "plt.plot(int_fprs, med_tpr)\n",
    "plt.fill_between(int_fprs, lower_tpr, higher_tpr, alpha = 0.2)\n",
    "plt.fill_between(int_fprs, low_tpr, high_tpr, alpha = 0.3, color = \"C0\")\n",
    "plt.xlabel(\"False Positive Rate\", fontsize = 14)\n",
    "plt.ylabel(\"True Positive Rate\", fontsize = 14)\n",
    "plt.xticks(fontsize = 13)\n",
    "plt.yticks(fontsize = 13)\n",
    "plt.grid(True)\n",
    "plt.xlim((-0.01, 1.01))\n",
    "plt.ylim((-0.01, 1.01));\n",
    "\n",
    "plt.savefig(\"ROCs.jpg\", bbox_inches = \"tight\")"
   ]
  },
  {
   "cell_type": "code",
   "execution_count": 22,
   "metadata": {},
   "outputs": [
    {
     "name": "stdout",
     "output_type": "stream",
     "text": [
      "ROC Mean: 0.9764658619778807\n",
      "ROC Standard Deviation: 0.01463399522372115\n"
     ]
    },
    {
     "data": {
      "image/png": "[encoded data removed]",
      "text/plain": [
       "<Figure size 576x576 with 1 Axes>"
      ]
     },
     "metadata": {
      "needs_background": "light"
     },
     "output_type": "display_data"
    }
   ],
   "source": [
    "# Plot a histogram of AUC-ROCs, binned with Freedman-Dianconis.\n",
    "#----------------------------------------------------------#\n",
    "\n",
    "plt.figure(figsize = (8, 8))\n",
    "plt.hist(roc_aucs, bins = \"fd\", density = True)\n",
    "plt.xlabel(\"ROC Area\", fontsize = 14)\n",
    "plt.xticks(fontsize = 13)\n",
    "plt.yticks(fontsize = 13);\n",
    "\n",
    "plt.savefig(\"AUCROCs.jpg\", bbox_inches = \"tight\")\n",
    "\n",
    "print(\"ROC Mean: {}\".format(np.mean(roc_aucs)))\n",
    "print(\"ROC Standard Deviation: {}\".format(np.std(roc_aucs)))"
   ]
  },
  {
   "cell_type": "code",
   "execution_count": 23,
   "metadata": {},
   "outputs": [
    {
     "name": "stdout",
     "output_type": "stream",
     "text": [
      "PRC Mean: 0.7658035246000857\n",
      "PRC Standard Deviation: 0.05153876381741216\n"
     ]
    },
    {
     "data": {
      "image/png": "[encoded data removed]",
      "text/plain": [
       "<Figure size 576x576 with 1 Axes>"
      ]
     },
     "metadata": {
      "needs_background": "light"
     },
     "output_type": "display_data"
    }
   ],
   "source": [
    "# Plot a histogram of AUC-PRCs, binned with Freedman-Dianconis.\n",
    "#----------------------------------------------------------#\n",
    "\n",
    "plt.figure(figsize = (8, 8))\n",
    "plt.hist(prc_aucs, bins = \"fd\", density = True)\n",
    "plt.xlabel(\"PRC Area\", fontsize = 14)\n",
    "plt.xticks(fontsize = 13)\n",
    "plt.yticks(fontsize = 13);\n",
    "\n",
    "plt.savefig(\"AUCPRCs.jpg\", bbox_inches = \"tight\")\n",
    "\n",
    "print(\"PRC Mean: {}\".format(np.mean(prc_aucs)))\n",
    "print(\"PRC Standard Deviation: {}\".format(np.std(prc_aucs)))"
   ]
  },
  {
   "cell_type": "markdown",
   "metadata": {},
   "source": [
    "## Conclusions\n",
    "\n",
    "Our model performs fairly well on the data, capable of 0.8/0.8 recall/precision in the median case. The variation in model performance over training sets indicates that this could be improved with data on more fraudulent transactions. Future work could also explore the performance impact of different undersampling, resampling, and oversampling techniques and checking if using the area under the precision recall curve as a selection metric during model selection results in the selection of a different model."
   ]
  },
  {
   "cell_type": "code",
   "execution_count": null,
   "metadata": {},
   "outputs": [],
   "source": []
  }
 ],
 "metadata": {
  "kernelspec": {
   "display_name": "Python 3",
   "language": "python",
   "name": "python3"
  },
  "language_info": {
   "codemirror_mode": {
    "name": "ipython",
    "version": 3
   },
   "file_extension": ".py",
   "mimetype": "text/x-python",
   "name": "python",
   "nbconvert_exporter": "python",
   "pygments_lexer": "ipython3",
   "version": "3.7.3"
  }
 },
 "nbformat": 4,
 "nbformat_minor": 2
}
